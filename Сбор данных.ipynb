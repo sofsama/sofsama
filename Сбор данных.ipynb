{
 "cells": [
  {
   "cell_type": "markdown",
   "id": "f05812cc",
   "metadata": {},
   "source": [
    "# Парсим данные"
   ]
  },
  {
   "cell_type": "markdown",
   "id": "a27a9d44",
   "metadata": {},
   "source": [
    "Буду собирать информацию о двухкомнатных и трехкомнатных квартирах для долгосрочной аренды в Москве.\n",
    "\n",
    "Парсим данные с ЦИАНа, использую уже готовую библиотеку https://github.com/lenarsaitov/cianparser"
   ]
  },
  {
   "cell_type": "markdown",
   "id": "369042dd",
   "metadata": {},
   "source": [
    "Испортиртирую нужные библиотеки:"
   ]
  },
  {
   "cell_type": "code",
   "execution_count": 4,
   "id": "f4d43744",
   "metadata": {},
   "outputs": [
    {
     "name": "stdout",
     "output_type": "stream",
     "text": [
      "Collecting git+https://github.com/lenarsaitov/cianparser.git\n",
      "  Cloning https://github.com/lenarsaitov/cianparser.git to c:\\users\\sofia\\appdata\\local\\temp\\pip-req-build-5vyq7bgh\n",
      "  Resolved https://github.com/lenarsaitov/cianparser.git to commit 236352a200b08b27c24d14b18939b4c34691cbb2\n",
      "  Preparing metadata (setup.py): started\n",
      "  Preparing metadata (setup.py): finished with status 'done'\n",
      "Requirement already satisfied: cloudscraper in c:\\users\\sofia\\anaconda3\\lib\\site-packages (from cianparser==1.0.4) (1.2.71)\n",
      "Requirement already satisfied: beautifulsoup4 in c:\\users\\sofia\\anaconda3\\lib\\site-packages (from cianparser==1.0.4) (4.12.2)\n",
      "Requirement already satisfied: transliterate in c:\\users\\sofia\\anaconda3\\lib\\site-packages (from cianparser==1.0.4) (1.10.2)\n",
      "Requirement already satisfied: lxml in c:\\users\\sofia\\anaconda3\\lib\\site-packages (from cianparser==1.0.4) (4.9.3)\n",
      "Requirement already satisfied: datetime in c:\\users\\sofia\\anaconda3\\lib\\site-packages (from cianparser==1.0.4) (5.5)\n",
      "Requirement already satisfied: soupsieve>1.2 in c:\\users\\sofia\\anaconda3\\lib\\site-packages (from beautifulsoup4->cianparser==1.0.4) (2.4)\n",
      "Requirement already satisfied: pyparsing>=2.4.7 in c:\\users\\sofia\\anaconda3\\lib\\site-packages (from cloudscraper->cianparser==1.0.4) (3.0.9)\n",
      "Requirement already satisfied: requests>=2.9.2 in c:\\users\\sofia\\anaconda3\\lib\\site-packages (from cloudscraper->cianparser==1.0.4) (2.31.0)\n",
      "Requirement already satisfied: requests-toolbelt>=0.9.1 in c:\\users\\sofia\\anaconda3\\lib\\site-packages (from cloudscraper->cianparser==1.0.4) (1.0.0)\n",
      "Requirement already satisfied: zope.interface in c:\\users\\sofia\\anaconda3\\lib\\site-packages (from datetime->cianparser==1.0.4) (5.4.0)\n",
      "Requirement already satisfied: pytz in c:\\users\\sofia\\anaconda3\\lib\\site-packages (from datetime->cianparser==1.0.4) (2023.3.post1)\n",
      "Requirement already satisfied: six>=1.1.0 in c:\\users\\sofia\\anaconda3\\lib\\site-packages (from transliterate->cianparser==1.0.4) (1.16.0)\n",
      "Requirement already satisfied: charset-normalizer<4,>=2 in c:\\users\\sofia\\anaconda3\\lib\\site-packages (from requests>=2.9.2->cloudscraper->cianparser==1.0.4) (2.0.4)\n",
      "Requirement already satisfied: idna<4,>=2.5 in c:\\users\\sofia\\anaconda3\\lib\\site-packages (from requests>=2.9.2->cloudscraper->cianparser==1.0.4) (3.4)\n",
      "Requirement already satisfied: urllib3<3,>=1.21.1 in c:\\users\\sofia\\anaconda3\\lib\\site-packages (from requests>=2.9.2->cloudscraper->cianparser==1.0.4) (1.26.16)\n",
      "Requirement already satisfied: certifi>=2017.4.17 in c:\\users\\sofia\\anaconda3\\lib\\site-packages (from requests>=2.9.2->cloudscraper->cianparser==1.0.4) (2023.7.22)\n",
      "Requirement already satisfied: setuptools in c:\\users\\sofia\\anaconda3\\lib\\site-packages (from zope.interface->datetime->cianparser==1.0.4) (68.0.0)\n"
     ]
    },
    {
     "name": "stderr",
     "output_type": "stream",
     "text": [
      "  Running command git clone --filter=blob:none --quiet https://github.com/lenarsaitov/cianparser.git 'C:\\Users\\sofia\\AppData\\Local\\Temp\\pip-req-build-5vyq7bgh'\n"
     ]
    }
   ],
   "source": [
    "import sys\n",
    "!{sys.executable} -m pip install git+https://github.com/lenarsaitov/cianparser.git\n",
    "    \n",
    "import csv\n",
    "import pandas as pd"
   ]
  },
  {
   "cell_type": "markdown",
   "id": "ad746b62",
   "metadata": {},
   "source": [
    "Изучив возможности готовой бибилиотеки, решила задать ограничение а неболее 10 минут до станции метро пешком. Также у готовой библиотеки есть возможность парсить только по 50 страниц, поэтому буду собирать данные трижды."
   ]
  },
  {
   "cell_type": "code",
   "execution_count": 1,
   "id": "cc0db694",
   "metadata": {},
   "outputs": [
    {
     "name": "stdout",
     "output_type": "stream",
     "text": [
      "\n",
      "                              Preparing to collect information from pages..\n",
      "The absolute path to the file: \n",
      "C:\\Users\\sofia\\cian_flat_rent_1_10_moskva_12_May_2024_01_28_10_207294.csv \n",
      "\n",
      "The page from which the collection of information begins: \n",
      " https://cian.ru/cat.php?engine_version=2&p=1&with_neighbors=0&region=1&deal_type=rent&offer_type=flat&room2=1&room3=1&type=4&only_foot=2&foot_min=10\n",
      "\n",
      "Collecting information from pages with list of offers\n",
      " 1 | 1 page with list: [=>=>=>=>=>=>=>=>=>=>=>=>=>=>=>=>=>=>=>=>=>=>=>=>=>=>=>=>] 100% | Count of all parsed: 28. Progress ratio: 10 %. Average price: 796 510 rub\n",
      " 2 | 2 page with list: [=>=>=>=>=>=>=>=>=>=>=>=>=>=>=>=>=>=>=>=>=>=>=>=>=>=>=>=>] 100% | Count of all parsed: 56. Progress ratio: 20 %. Average price: 1 011 571 rub\n",
      " 3 | 3 page with list: [=>=>=>=>=>=>=>=>=>=>=>=>=>=>=>=>=>=>=>=>=>=>=>=>=>=>=>=>] 100% | Count of all parsed: 84. Progress ratio: 30 %. Average price: 1 210 046 rub\n",
      " 4 | 4 page with list: [=>=>=>=>=>=>=>=>=>=>=>=>=>=>=>=>=>=>=>=>=>=>=>=>=>=>=>=>] 100% | Count of all parsed: 111. Progress ratio: 40 %. Average price: 1 290 439 rub\n",
      " 5 | 5 page with list: [=>=>=>=>=>=>=>=>=>=>=>=>=>=>=>=>=>=>=>=>=>=>=>=>=>=>=>=>] 100% | Count of all parsed: 139. Progress ratio: 50 %. Average price: 1 335 835 rub\n",
      " 6 | 6 page with list: [=>=>=>=>=>=>=>=>=>=>=>=>=>=>=>=>=>=>=>=>=>=>=>=>=>=>=>=>] 100% | Count of all parsed: 167. Progress ratio: 60 %. Average price: 1 370 050 rub\n",
      " 7 | 7 page with list: [=>=>=>=>=>=>=>=>=>=>=>=>=>=>=>=>=>=>=>=>=>=>=>=>=>=>=>=>] 100% | Count of all parsed: 193. Progress ratio: 69 %. Average price: 1 396 537 rub\n",
      " 8 | 8 page with list: [=>=>=>=>=>=>=>=>=>=>=>=>=>=>=>=>=>=>=>=>=>=>=>=>=>=>=>=>] 100% | Count of all parsed: 220. Progress ratio: 79 %. Average price: 1 420 302 rub\n",
      " 9 | 9 page with list: [=>=>=>=>=>=>=>=>=>=>=>=>=>=>=>=>=>=>=>=>=>=>=>=>=>=>=>=>] 100% | Count of all parsed: 247. Progress ratio: 89 %. Average price: 1 435 726 rub\n",
      " 10 | 10 page with list: [=>=>=>=>=>=>=>=>=>=>=>=>=>=>=>=>=>=>=>=>=>=>=>=>=>=>=>=>] 100% | Count of all parsed: 274. Progress ratio: 98 %. Average price: 1 456 800 rub\n",
      "\n",
      "The collection of information from the pages with list of offers is completed\n",
      "Total number of parsed offers: 274. \n"
     ]
    }
   ],
   "source": [
    "import cianparser\n",
    "\n",
    "moscow_parser = cianparser.CianParser(location = \"Москва\")\n",
    "data1 = moscow_parser.get_flats(deal_type = \"rent_long\", rooms = (2, 3), additional_settings = {\"start_page\": 1, \"end_page\": 50, \"metro_foot_minute\": 10})"
   ]
  },
  {
   "cell_type": "code",
   "execution_count": 3,
   "id": "6b25f975",
   "metadata": {},
   "outputs": [
    {
     "name": "stdout",
     "output_type": "stream",
     "text": [
      "\n",
      "                              Preparing to collect information from pages..\n",
      "The absolute path to the file: \n",
      "C:\\Users\\sofia\\cian_flat_rent_51_100_moskva_12_May_2024_01_20_29_892086.csv \n",
      "\n",
      "The page from which the collection of information begins: \n",
      " https://cian.ru/cat.php?engine_version=2&p=51&with_neighbors=0&region=1&deal_type=rent&offer_type=flat&room2=1&room3=1&type=4&only_foot=2&foot_min=10\n",
      "\n",
      "Collecting information from pages with list of offers\n",
      " 1 | 51 page with list: [=>=>=>=>=>=>=>=>=>=>=>=>=>=>=>=>=>=>=>=>=>=>=>=>=>=>=>=>] 100% | Count of all parsed: 28. Progress ratio: 2 %. Average price: 361 564 rub\n",
      " 2 | 52 page with list: [=>=>=>=>=>=>=>=>=>=>=>=>=>=>=>=>=>=>=>=>=>=>=>=>=>=>=>=>] 100% | Count of all parsed: 56. Progress ratio: 4 %. Average price: 427 510 rub\n",
      " 3 | 53 page with list: [=>=>=>=>=>=>=>=>=>=>=>=>=>=>=>=>=>=>=>=>=>=>=>=>=>=>=>] 100% | Count of all parsed: 83. Progress ratio: 7 %. Average price: 466 583 rub\n",
      " 4 | 54 page with list: [=>=>=>=>=>=>=>=>=>=>=>=>=>=>=>=>=>=>=>=>=>=>=>=>=>] 100% | Count of all parsed: 106. Progress ratio: 9 %. Average price: 491 051 rub\n",
      " 5 | 55 page with list: [=>=>=>=>=>=>=>=>=>=>=>=>=>=>=>=>=>=>=>=>=>=>=>=>=>=>=>=>] 100% | Count of all parsed: 133. Progress ratio: 10 %. Average price: 557 829 rub\n",
      "\n",
      "Exception: 429 Client Error: Too Many Requests for url: https://www.cian.ru/cat.php?deal_type=rent&engine_version=2&foot_min=10&offer_type=flat&only_foot=2&p=1&region=1&room2=1&room3=1&type=4&with_neighbors=0\n",
      "The collection of information from the pages with ending parse on 56 page...\n",
      "\n",
      "\n",
      "\n",
      "Exception: 429 Client Error: Too Many Requests for url: https://www.cian.ru/cat.php?deal_type=rent&engine_version=2&foot_min=10&offer_type=flat&only_foot=2&p=1&region=1&room2=1&room3=1&type=4&with_neighbors=0\n",
      "The collection of information from the pages with ending parse on 57 page...\n",
      "\n",
      "\n",
      "\n",
      "Exception: 429 Client Error: Too Many Requests for url: https://www.cian.ru/cat.php?deal_type=rent&engine_version=2&foot_min=10&offer_type=flat&only_foot=2&p=1&region=1&room2=1&room3=1&type=4&with_neighbors=0\n",
      "The collection of information from the pages with ending parse on 58 page...\n",
      "\n"
     ]
    },
    {
     "ename": "KeyboardInterrupt",
     "evalue": "",
     "output_type": "error",
     "traceback": [
      "\u001b[1;31m---------------------------------------------------------------------------\u001b[0m",
      "\u001b[1;31mKeyboardInterrupt\u001b[0m                         Traceback (most recent call last)",
      "Cell \u001b[1;32mIn[3], line 2\u001b[0m\n\u001b[0;32m      1\u001b[0m moscow_parser \u001b[38;5;241m=\u001b[39m cianparser\u001b[38;5;241m.\u001b[39mCianParser(location \u001b[38;5;241m=\u001b[39m \u001b[38;5;124m\"\u001b[39m\u001b[38;5;124mМосква\u001b[39m\u001b[38;5;124m\"\u001b[39m)\n\u001b[1;32m----> 2\u001b[0m data_2 \u001b[38;5;241m=\u001b[39m moscow_parser\u001b[38;5;241m.\u001b[39mget_flats(deal_type \u001b[38;5;241m=\u001b[39m \u001b[38;5;124m\"\u001b[39m\u001b[38;5;124mrent_long\u001b[39m\u001b[38;5;124m\"\u001b[39m, rooms \u001b[38;5;241m=\u001b[39m (\u001b[38;5;241m2\u001b[39m, \u001b[38;5;241m3\u001b[39m), with_saving_csv \u001b[38;5;241m=\u001b[39m \u001b[38;5;28;01mTrue\u001b[39;00m, additional_settings \u001b[38;5;241m=\u001b[39m {\u001b[38;5;124m\"\u001b[39m\u001b[38;5;124mstart_page\u001b[39m\u001b[38;5;124m\"\u001b[39m: \u001b[38;5;241m51\u001b[39m, \u001b[38;5;124m\"\u001b[39m\u001b[38;5;124mend_page\u001b[39m\u001b[38;5;124m\"\u001b[39m: \u001b[38;5;241m100\u001b[39m, \u001b[38;5;124m\"\u001b[39m\u001b[38;5;124mmetro_foot_minute\u001b[39m\u001b[38;5;124m\"\u001b[39m: \u001b[38;5;241m10\u001b[39m})\n",
      "File \u001b[1;32m~\\anaconda3\\Lib\\site-packages\\cianparser\\cianparser.py:119\u001b[0m, in \u001b[0;36mCianParser.get_flats\u001b[1;34m(self, deal_type, rooms, with_saving_csv, with_extra_data, additional_settings)\u001b[0m\n\u001b[0;32m    108\u001b[0m deal_type, rent_period_type \u001b[38;5;241m=\u001b[39m __define_deal_type__(deal_type)\n\u001b[0;32m    109\u001b[0m \u001b[38;5;28mself\u001b[39m\u001b[38;5;241m.\u001b[39m__parser__ \u001b[38;5;241m=\u001b[39m FlatListPageParser(\n\u001b[0;32m    110\u001b[0m     session\u001b[38;5;241m=\u001b[39m\u001b[38;5;28mself\u001b[39m\u001b[38;5;241m.\u001b[39m__session__,\n\u001b[0;32m    111\u001b[0m     accommodation_type\u001b[38;5;241m=\u001b[39m\u001b[38;5;124m\"\u001b[39m\u001b[38;5;124mflat\u001b[39m\u001b[38;5;124m\"\u001b[39m,\n\u001b[1;32m   (...)\u001b[0m\n\u001b[0;32m    117\u001b[0m     additional_settings\u001b[38;5;241m=\u001b[39madditional_settings,\n\u001b[0;32m    118\u001b[0m )\n\u001b[1;32m--> 119\u001b[0m \u001b[38;5;28mself\u001b[39m\u001b[38;5;241m.\u001b[39m__run__(\n\u001b[0;32m    120\u001b[0m     __build_url_list__(location_id\u001b[38;5;241m=\u001b[39m\u001b[38;5;28mself\u001b[39m\u001b[38;5;241m.\u001b[39m__location_id__, deal_type\u001b[38;5;241m=\u001b[39mdeal_type, accommodation_type\u001b[38;5;241m=\u001b[39m\u001b[38;5;124m\"\u001b[39m\u001b[38;5;124mflat\u001b[39m\u001b[38;5;124m\"\u001b[39m,\n\u001b[0;32m    121\u001b[0m                        rooms\u001b[38;5;241m=\u001b[39mrooms, rent_period_type\u001b[38;5;241m=\u001b[39mrent_period_type,\n\u001b[0;32m    122\u001b[0m                        additional_settings\u001b[38;5;241m=\u001b[39madditional_settings))\n\u001b[0;32m    123\u001b[0m \u001b[38;5;28;01mreturn\u001b[39;00m \u001b[38;5;28mself\u001b[39m\u001b[38;5;241m.\u001b[39m__parser__\u001b[38;5;241m.\u001b[39mresult\n",
      "File \u001b[1;32m~\\anaconda3\\Lib\\site-packages\\cianparser\\cianparser.py:76\u001b[0m, in \u001b[0;36mCianParser.__run__\u001b[1;34m(self, url_list_format)\u001b[0m\n\u001b[0;32m     73\u001b[0m \u001b[38;5;28;01mwhile\u001b[39;00m attempt_number_exception \u001b[38;5;241m<\u001b[39m \u001b[38;5;241m3\u001b[39m \u001b[38;5;129;01mand\u001b[39;00m \u001b[38;5;129;01mnot\u001b[39;00m page_parsed:\n\u001b[0;32m     74\u001b[0m     \u001b[38;5;28;01mtry\u001b[39;00m:\n\u001b[0;32m     75\u001b[0m         (page_parsed, attempt_number, end_all_parsing) \u001b[38;5;241m=\u001b[39m \u001b[38;5;28mself\u001b[39m\u001b[38;5;241m.\u001b[39m__parser__\u001b[38;5;241m.\u001b[39mparse_list_offers_page(\n\u001b[1;32m---> 76\u001b[0m             html\u001b[38;5;241m=\u001b[39m\u001b[38;5;28mself\u001b[39m\u001b[38;5;241m.\u001b[39m__load_list_page__(url_list_format\u001b[38;5;241m=\u001b[39murl_list_format, page_number\u001b[38;5;241m=\u001b[39mpage_number, attempt_number_exception\u001b[38;5;241m=\u001b[39mattempt_number_exception),\n\u001b[0;32m     77\u001b[0m             page_number\u001b[38;5;241m=\u001b[39mpage_number,\n\u001b[0;32m     78\u001b[0m             count_of_pages\u001b[38;5;241m=\u001b[39m\u001b[38;5;28mself\u001b[39m\u001b[38;5;241m.\u001b[39m__parser__\u001b[38;5;241m.\u001b[39mend_page \u001b[38;5;241m+\u001b[39m \u001b[38;5;241m1\u001b[39m \u001b[38;5;241m-\u001b[39m \u001b[38;5;28mself\u001b[39m\u001b[38;5;241m.\u001b[39m__parser__\u001b[38;5;241m.\u001b[39mstart_page,\n\u001b[0;32m     79\u001b[0m             attempt_number\u001b[38;5;241m=\u001b[39mattempt_number_exception)\n\u001b[0;32m     81\u001b[0m     \u001b[38;5;28;01mexcept\u001b[39;00m \u001b[38;5;167;01mException\u001b[39;00m \u001b[38;5;28;01mas\u001b[39;00m e:\n\u001b[0;32m     82\u001b[0m         attempt_number_exception \u001b[38;5;241m+\u001b[39m\u001b[38;5;241m=\u001b[39m \u001b[38;5;241m1\u001b[39m\n",
      "File \u001b[1;32m~\\anaconda3\\Lib\\site-packages\\cianparser\\cianparser.py:55\u001b[0m, in \u001b[0;36mCianParser.__load_list_page__\u001b[1;34m(self, url_list_format, page_number, attempt_number_exception)\u001b[0m\n\u001b[0;32m     53\u001b[0m res \u001b[38;5;241m=\u001b[39m \u001b[38;5;28mself\u001b[39m\u001b[38;5;241m.\u001b[39m__session__\u001b[38;5;241m.\u001b[39mget(url\u001b[38;5;241m=\u001b[39murl_list)\n\u001b[0;32m     54\u001b[0m \u001b[38;5;28;01mif\u001b[39;00m res\u001b[38;5;241m.\u001b[39mstatus_code \u001b[38;5;241m==\u001b[39m \u001b[38;5;241m429\u001b[39m:\n\u001b[1;32m---> 55\u001b[0m     time\u001b[38;5;241m.\u001b[39msleep(\u001b[38;5;241m10\u001b[39m)\n\u001b[0;32m     56\u001b[0m res\u001b[38;5;241m.\u001b[39mraise_for_status()\n\u001b[0;32m     58\u001b[0m \u001b[38;5;28;01mreturn\u001b[39;00m res\u001b[38;5;241m.\u001b[39mtext\n",
      "\u001b[1;31mKeyboardInterrupt\u001b[0m: "
     ]
    }
   ],
   "source": [
    "moscow_parser = cianparser.CianParser(location = \"Москва\")\n",
    "data2 = moscow_parser.get_flats(deal_type = \"rent_long\", rooms = (2, 3), additional_settings = {\"start_page\": 51, \"end_page\": 100, \"metro_foot_minute\": 10})"
   ]
  },
  {
   "cell_type": "code",
   "execution_count": null,
   "id": "7a56b5c8",
   "metadata": {},
   "outputs": [],
   "source": [
    "moscow_parser = cianparser.CianParser(location = \"Москва\")\n",
    "data3 = moscow_parser.get_flats(deal_type = \"rent_long\", rooms = (2, 3), additional_settings = {\"start_page\": 101, \"end_page\": 150, \"metro_foot_minute\": 10})"
   ]
  },
  {
   "cell_type": "markdown",
   "id": "2710b83e",
   "metadata": {},
   "source": [
    "Итого собрано ... наблюдений\n",
    "\n",
    "Импортируем в табличку, а потом выгрузим в формате xlsx"
   ]
  },
  {
   "cell_type": "code",
   "execution_count": 2,
   "id": "b0add05a",
   "metadata": {},
   "outputs": [
    {
     "data": {
      "text/html": [
       "<div>\n",
       "<style scoped>\n",
       "    .dataframe tbody tr th:only-of-type {\n",
       "        vertical-align: middle;\n",
       "    }\n",
       "\n",
       "    .dataframe tbody tr th {\n",
       "        vertical-align: top;\n",
       "    }\n",
       "\n",
       "    .dataframe thead th {\n",
       "        text-align: right;\n",
       "    }\n",
       "</style>\n",
       "<table border=\"1\" class=\"dataframe\">\n",
       "  <thead>\n",
       "    <tr style=\"text-align: right;\">\n",
       "      <th></th>\n",
       "      <th>author</th>\n",
       "      <th>author_type</th>\n",
       "      <th>url</th>\n",
       "      <th>location</th>\n",
       "      <th>deal_type</th>\n",
       "      <th>accommodation_type</th>\n",
       "      <th>floor</th>\n",
       "      <th>floors_count</th>\n",
       "      <th>rooms_count</th>\n",
       "      <th>total_meters</th>\n",
       "      <th>price_per_month</th>\n",
       "      <th>commissions</th>\n",
       "      <th>district</th>\n",
       "      <th>street</th>\n",
       "      <th>house_number</th>\n",
       "      <th>underground</th>\n",
       "    </tr>\n",
       "  </thead>\n",
       "  <tbody>\n",
       "    <tr>\n",
       "      <th>0</th>\n",
       "      <td>Циан х ПИК-Аренда</td>\n",
       "      <td>real_estate_agent</td>\n",
       "      <td>https://www.cian.ru/rent/flat/300913633/</td>\n",
       "      <td>Москва</td>\n",
       "      <td>rent</td>\n",
       "      <td>flat</td>\n",
       "      <td>12</td>\n",
       "      <td>17</td>\n",
       "      <td>3</td>\n",
       "      <td>72.7</td>\n",
       "      <td>88000</td>\n",
       "      <td>0</td>\n",
       "      <td>Черемушки</td>\n",
       "      <td>Наметкина</td>\n",
       "      <td>11</td>\n",
       "      <td>Новые Черёмушки</td>\n",
       "    </tr>\n",
       "    <tr>\n",
       "      <th>1</th>\n",
       "      <td>АЛЬФА</td>\n",
       "      <td>real_estate_agent</td>\n",
       "      <td>https://www.cian.ru/rent/flat/301061437/</td>\n",
       "      <td>Москва</td>\n",
       "      <td>rent</td>\n",
       "      <td>flat</td>\n",
       "      <td>24</td>\n",
       "      <td>25</td>\n",
       "      <td>2</td>\n",
       "      <td>65.0</td>\n",
       "      <td>110000</td>\n",
       "      <td>0</td>\n",
       "      <td>Обручевский</td>\n",
       "      <td>Ленинский проспект</td>\n",
       "      <td>105к3</td>\n",
       "      <td>Новаторская</td>\n",
       "    </tr>\n",
       "    <tr>\n",
       "      <th>2</th>\n",
       "      <td>HYDE Residences</td>\n",
       "      <td>real_estate_agent</td>\n",
       "      <td>https://www.cian.ru/rent/flat/300717248/</td>\n",
       "      <td>Москва</td>\n",
       "      <td>rent</td>\n",
       "      <td>flat</td>\n",
       "      <td>54</td>\n",
       "      <td>78</td>\n",
       "      <td>2</td>\n",
       "      <td>75.0</td>\n",
       "      <td>220000</td>\n",
       "      <td>0</td>\n",
       "      <td>Пресненский</td>\n",
       "      <td>1-й Красногвардейский проезд</td>\n",
       "      <td>22с2</td>\n",
       "      <td>Москва-Сити</td>\n",
       "    </tr>\n",
       "    <tr>\n",
       "      <th>3</th>\n",
       "      <td>ЦАН</td>\n",
       "      <td>real_estate_agent</td>\n",
       "      <td>https://www.cian.ru/rent/flat/301067187/</td>\n",
       "      <td>Москва</td>\n",
       "      <td>rent</td>\n",
       "      <td>flat</td>\n",
       "      <td>24</td>\n",
       "      <td>25</td>\n",
       "      <td>2</td>\n",
       "      <td>66.0</td>\n",
       "      <td>110000</td>\n",
       "      <td>0</td>\n",
       "      <td>Обручевский</td>\n",
       "      <td>Ленинский проспект</td>\n",
       "      <td>105к3</td>\n",
       "      <td>Новаторская</td>\n",
       "    </tr>\n",
       "    <tr>\n",
       "      <th>4</th>\n",
       "      <td>The IMPERIUM</td>\n",
       "      <td>real_estate_agent</td>\n",
       "      <td>https://www.cian.ru/rent/flat/300795430/</td>\n",
       "      <td>Москва</td>\n",
       "      <td>rent</td>\n",
       "      <td>flat</td>\n",
       "      <td>11</td>\n",
       "      <td>33</td>\n",
       "      <td>3</td>\n",
       "      <td>63.0</td>\n",
       "      <td>110000</td>\n",
       "      <td>0</td>\n",
       "      <td>Головинский</td>\n",
       "      <td>Кронштадтский бульвар</td>\n",
       "      <td>8к1</td>\n",
       "      <td>Водный стадион</td>\n",
       "    </tr>\n",
       "  </tbody>\n",
       "</table>\n",
       "</div>"
      ],
      "text/plain": [
       "              author        author_type  \\\n",
       "0  Циан х ПИК-Аренда  real_estate_agent   \n",
       "1              АЛЬФА  real_estate_agent   \n",
       "2    HYDE Residences  real_estate_agent   \n",
       "3                ЦАН  real_estate_agent   \n",
       "4       The IMPERIUM  real_estate_agent   \n",
       "\n",
       "                                        url location deal_type  \\\n",
       "0  https://www.cian.ru/rent/flat/300913633/   Москва      rent   \n",
       "1  https://www.cian.ru/rent/flat/301061437/   Москва      rent   \n",
       "2  https://www.cian.ru/rent/flat/300717248/   Москва      rent   \n",
       "3  https://www.cian.ru/rent/flat/301067187/   Москва      rent   \n",
       "4  https://www.cian.ru/rent/flat/300795430/   Москва      rent   \n",
       "\n",
       "  accommodation_type  floor  floors_count  rooms_count  total_meters  \\\n",
       "0               flat     12            17            3          72.7   \n",
       "1               flat     24            25            2          65.0   \n",
       "2               flat     54            78            2          75.0   \n",
       "3               flat     24            25            2          66.0   \n",
       "4               flat     11            33            3          63.0   \n",
       "\n",
       "   price_per_month  commissions     district                        street  \\\n",
       "0            88000            0    Черемушки                     Наметкина   \n",
       "1           110000            0  Обручевский            Ленинский проспект   \n",
       "2           220000            0  Пресненский  1-й Красногвардейский проезд   \n",
       "3           110000            0  Обручевский            Ленинский проспект   \n",
       "4           110000            0  Головинский         Кронштадтский бульвар   \n",
       "\n",
       "  house_number      underground  \n",
       "0           11  Новые Черёмушки  \n",
       "1        105к3      Новаторская  \n",
       "2         22с2      Москва-Сити  \n",
       "3        105к3      Новаторская  \n",
       "4          8к1   Водный стадион  "
      ]
     },
     "execution_count": 2,
     "metadata": {},
     "output_type": "execute_result"
    }
   ],
   "source": [
    "df1 = pd.DataFrame(data1) #\n",
    "df2 = pd.DataFrame(data2)\n",
    "df3 = pd.DataFrame(data3)\n",
    "\n",
    "df = pd.concat([df1, df2, df3], axis=0)\n",
    "df.head()"
   ]
  },
  {
   "cell_type": "code",
   "execution_count": 5,
   "id": "95ad4b3a",
   "metadata": {},
   "outputs": [],
   "source": [
    "df.to_excel('Parsing.xlsx', index=False)"
   ]
  }
 ],
 "metadata": {
  "kernelspec": {
   "display_name": "Python 3 (ipykernel)",
   "language": "python",
   "name": "python3"
  },
  "language_info": {
   "codemirror_mode": {
    "name": "ipython",
    "version": 3
   },
   "file_extension": ".py",
   "mimetype": "text/x-python",
   "name": "python",
   "nbconvert_exporter": "python",
   "pygments_lexer": "ipython3",
   "version": "3.11.5"
  }
 },
 "nbformat": 4,
 "nbformat_minor": 5
}
